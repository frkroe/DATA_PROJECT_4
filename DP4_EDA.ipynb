{
  "nbformat": 4,
  "nbformat_minor": 0,
  "metadata": {
    "colab": {
      "provenance": [],
      "gpuType": "T4",
      "machine_shape": "hm"
    },
    "kernelspec": {
      "name": "python3",
      "display_name": "Python 3"
    },
    "language_info": {
      "name": "python"
    },
    "accelerator": "GPU"
  },
  "cells": [
    {
      "cell_type": "markdown",
      "source": [
        "### Data Project 4 | Parte I: EDA\n",
        "# Clasificación de imágenes de Rayos X\n",
        "Grupo X: Maria, Franzi y Nacho"
      ],
      "metadata": {
        "id": "_lWmEijDmIr-"
      }
    },
    {
      "cell_type": "markdown",
      "source": [
        "## Libraries"
      ],
      "metadata": {
        "id": "OnlwXZ0ImVdh"
      }
    },
    {
      "cell_type": "code",
      "execution_count": null,
      "metadata": {
        "colab": {
          "base_uri": "https://localhost:8080/"
        },
        "id": "DbaEmuw-mGbT",
        "outputId": "8524c4ac-70e1-4437-9402-b0c82fdf9c0b"
      },
      "outputs": [
        {
          "output_type": "stream",
          "name": "stdout",
          "text": [
            "Looking in indexes: https://pypi.org/simple, https://us-python.pkg.dev/colab-wheels/public/simple/\n",
            "Collecting pydicom\n",
            "  Downloading pydicom-2.3.1-py3-none-any.whl (2.0 MB)\n",
            "\u001b[2K     \u001b[90m━━━━━━━━━━━━━━━━━━━━━━━━━━━━━━━━━━━━━━━━\u001b[0m \u001b[32m2.0/2.0 MB\u001b[0m \u001b[31m19.3 MB/s\u001b[0m eta \u001b[36m0:00:00\u001b[0m\n",
            "\u001b[?25hInstalling collected packages: pydicom\n",
            "Successfully installed pydicom-2.3.1\n"
          ]
        }
      ],
      "source": [
        "!pip3 install pydicom"
      ]
    },
    {
      "cell_type": "code",
      "source": [
        "# Data Access and Management\n",
        "from google.colab import drive\n",
        "import zipfile\n",
        "import os\n",
        "import glob\n",
        "\n",
        "# Image Processing\n",
        "import pydicom\n",
        "\n",
        "# Data Manipulation and Analysis\n",
        "import pandas as pd\n",
        "import numpy as np\n",
        "import random\n",
        "\n",
        "# Data Visualization\n",
        "from matplotlib import pyplot as plt\n",
        "import seaborn as sns\n",
        "\n",
        "print('Libraries successfully installed.')"
      ],
      "metadata": {
        "colab": {
          "base_uri": "https://localhost:8080/"
        },
        "id": "v70_JR4knagj",
        "outputId": "4d596dc8-5998-46dd-c96f-3fa9626262c2"
      },
      "execution_count": null,
      "outputs": [
        {
          "output_type": "stream",
          "name": "stdout",
          "text": [
            "Libraries successfully installed.\n"
          ]
        }
      ]
    },
    {
      "cell_type": "markdown",
      "source": [
        "## Load data from Kaggle\n",
        "We use the Kaggle API token method to download data from a Kaggle competition in Google Colab:\n",
        "\n",
        "1. Go to your Kaggle account settings page on the Kaggle website.\n",
        "\n",
        "2. Scroll down to the section labeled \"API\" and click on the \"Create New API Token\" button. This will download a file named \"kaggle.json\" to your computer that will be then uploaded in GDrive.\n",
        "\n",
        "3. Upload the \"kaggle.json\" file from your GDrive to your Google Colab environment.\n",
        "\n",
        "4. Continue by executing the following code:"
      ],
      "metadata": {
        "id": "YwtBm5CxoyaX"
      }
    },
    {
      "cell_type": "code",
      "source": [
        "# Mount Google Drive\n",
        "drive.mount('/content/drive')\n",
        "\n",
        "# Copy the kaggle.json file to the correct location\n",
        "!mkdir -p ~/.kaggle\n",
        "!cp '/content/drive/My Drive/kaggle.json' ~/.kaggle/\n",
        "!chmod 600 ~/.kaggle/kaggle.json\n",
        "\n",
        "# Download the competition data & unzip it\n",
        "if not os.path.exists('edem-mda-2022-23-data-project-4.zip'):\n",
        "  !kaggle competitions download -c edem-mda-2022-23-data-project-4\n",
        "  print('Data downloaded successfully.')\n",
        "  with zipfile.ZipFile('edem-mda-2022-23-data-project-4.zip', 'r') as data_to_unzip:\n",
        "    data_to_unzip.extractall('.')\n",
        "    print('Data extracted successfully.')\n",
        "else: print('Data already downloaded and extracted successfully.')"
      ],
      "metadata": {
        "colab": {
          "base_uri": "https://localhost:8080/"
        },
        "id": "aEx4-p0Vpir_",
        "outputId": "6745463d-ebba-4c70-d45a-026593a0381e"
      },
      "execution_count": null,
      "outputs": [
        {
          "output_type": "stream",
          "name": "stdout",
          "text": [
            "Mounted at /content/drive\n",
            "Downloading edem-mda-2022-23-data-project-4.zip to /content\n",
            "100% 19.1G/19.1G [03:16<00:00, 127MB/s]\n",
            "100% 19.1G/19.1G [03:16<00:00, 105MB/s]\n",
            "Data downloaded successfully.\n",
            "Data extracted successfully.\n"
          ]
        }
      ]
    },
    {
      "cell_type": "markdown",
      "source": [
        "## Get a first glance at images"
      ],
      "metadata": {
        "id": "zGo6lMHOmXh4"
      }
    },
    {
      "cell_type": "code",
      "source": [
        "# Get a list of all train and test DICOM files\n",
        "all_train_files = glob.glob(f'train/*')\n",
        "all_test_files = glob.glob(f'test/*')"
      ],
      "metadata": {
        "id": "fYvCqr1B5ymB"
      },
      "execution_count": null,
      "outputs": []
    },
    {
      "cell_type": "code",
      "source": [
        "# Randomly select 4 train and 4 test files\n",
        "random_files = random.sample(all_train_files, 4) + random.sample(all_test_files, 4)\n",
        "\n",
        "# Display the selected DICOM images\n",
        "plt.figure(figsize=(12, 10))\n",
        "plt.suptitle(\"8 Random Images from the Train & Test Dataset\")\n",
        "\n",
        "for i, file in enumerate(random_files):\n",
        "    ds = pydicom.dcmread(file)\n",
        "    plt.subplot(2, 4, i+1)\n",
        "    plt.imshow(ds.pixel_array, cmap=plt.cm.gray)\n",
        "    plt.title(f'Image {i+1}')\n",
        "    plt.axis('off')\n",
        "\n",
        "plt.tight_layout()\n",
        "plt.show()"
      ],
      "metadata": {
        "colab": {
          "base_uri": "https://localhost:8080/",
          "height": 140
        },
        "id": "wsN60Y6azsP-",
        "outputId": "e4de7ddc-c02b-4718-f9bd-c2d46857eb13"
      },
      "execution_count": null,
      "outputs": [
        {
          "output_type": "execute_result",
          "data": {
            "text/plain": [
              "'# Randomly select 4 train and 4 test files\\nrandom_files = random.sample(all_train_files, 4) + random.sample(all_test_files, 4)\\n\\n# Display the selected DICOM images\\nplt.figure(figsize=(12, 10))\\nplt.suptitle(\"8 Random Images from the Train & Test Dataset\")\\n\\nfor i, file in enumerate(random_files):\\n    file_path = file\\n    ds = pydicom.dcmread(file_path)\\n    \\n    plt.subplot(2, 4, i+1)\\n    plt.imshow(ds.pixel_array, cmap=plt.cm.gray)\\n    plt.title(f\\'Image {i+1}\\')\\n    plt.axis(\\'off\\')\\n\\nplt.tight_layout()\\nplt.show()'"
            ],
            "application/vnd.google.colaboratory.intrinsic+json": {
              "type": "string"
            }
          },
          "metadata": {},
          "execution_count": 6
        }
      ]
    },
    {
      "cell_type": "markdown",
      "source": [
        "## Get metadata of images"
      ],
      "metadata": {
        "id": "Dx232jRR2aTg"
      }
    },
    {
      "cell_type": "code",
      "source": [
        "# Get the first DICOM file in the folder train\n",
        "file_name = next((file for file in os.listdir('train') if file.endswith('.dcm')), None)\n",
        "file_path = os.path.join('train', file_name)\n",
        "ds = pydicom.dcmread(file_path)\n",
        "\n",
        "# Print the available metadata attributes\n",
        "print(f\"Metadata attributes for file: {file_name}\")\n",
        "metadata_list_all = dir(ds)\n",
        "print(metadata_list_all)"
      ],
      "metadata": {
        "colab": {
          "base_uri": "https://localhost:8080/"
        },
        "id": "I3b_8-oB3z0I",
        "outputId": "8be8f360-5528-4475-c183-c24bc9aec2ae"
      },
      "execution_count": null,
      "outputs": [
        {
          "output_type": "stream",
          "name": "stdout",
          "text": [
            "Metadata attributes for file: 1.2.826.0.1.3680043.8.498.13174031198396146354228627906496096728.dcm\n",
            "['AccessionNumber', 'BitsAllocated', 'BitsStored', 'BodyPartExamined', 'CodeValue', 'Columns', 'ContentTime', 'HighBit', 'InstanceCreationDate', 'InstanceCreationTime', 'InstanceNumber', 'Manufacturer', 'Modality', 'PatientAge', 'PatientBirthDate', 'PatientID', 'PatientIdentityRemoved', 'PatientName', 'PatientSex', 'PerformedProcedureStepStartTime', 'PhotometricInterpretation', 'PixelData', 'PixelRepresentation', 'ReferringPhysicianName', 'Rows', 'SOPClassUID', 'SOPInstanceUID', 'SamplesPerPixel', 'SeriesDate', 'SeriesDescription', 'SeriesInstanceUID', 'SeriesNumber', 'SpecificCharacterSet', 'StudyDate', 'StudyDescription', 'StudyID', 'StudyInstanceUID', 'StudyTime', '__array__', '__class__', '__contains__', '__copy__', '__deepcopy__', '__delattr__', '__delitem__', '__dict__', '__dir__', '__doc__', '__enter__', '__eq__', '__exit__', '__format__', '__ge__', '__getattr__', '__getattribute__', '__getitem__', '__getstate__', '__gt__', '__hash__', '__init__', '__init_subclass__', '__iter__', '__le__', '__len__', '__lt__', '__module__', '__ne__', '__new__', '__reduce__', '__reduce_ex__', '__repr__', '__setattr__', '__setitem__', '__setstate__', '__sizeof__', '__str__', '__subclasshook__', '__weakref__', '_character_set', '_convert_pixel_data_using_handler', '_convert_pixel_data_without_handler', '_copy_implementation', '_dataset_slice', '_dict', '_do_pixel_data_conversion', '_parent_encoding', '_pixel_array', '_pixel_id', '_pretty_str', '_private_blocks', '_set_file_meta', '_slice_dataset', 'add', 'add_new', 'clear', 'compress', 'convert_pixel_data', 'copy', 'data_element', 'decode', 'decompress', 'default_element_format', 'default_sequence_element_format', 'dir', 'elements', 'ensure_file_meta', 'file_meta', 'filename', 'fileobj_type', 'fix_meta_info', 'formatted_lines', 'from_json', 'get', 'get_item', 'get_private_item', 'group_dataset', 'indent_chars', 'is_decompressed', 'is_implicit_VR', 'is_little_endian', 'is_original_encoding', 'is_undefined_length_sequence_item', 'items', 'iterall', 'keys', 'overlay_array', 'parent', 'pixel_array', 'pop', 'popitem', 'preamble', 'private_block', 'private_creators', 'read_encoding', 'read_implicit_vr', 'read_little_endian', 'remove_private_tags', 'save_as', 'set_original_encoding', 'setdefault', 'timestamp', 'to_json', 'to_json_dict', 'top', 'trait_names', 'update', 'values', 'walk', 'waveform_array']\n"
          ]
        }
      ]
    },
    {
      "cell_type": "code",
      "source": [
        " # Create dictionary to store the attribute values we need\n",
        "metadata_list = ['SOPInstanceUID', 'PatientAge', 'PatientSex', 'Columns', 'Rows']\n",
        "metadata_values = {} \n",
        "\n",
        "# Initialize the dictionary with empty lists for each metadata attribute\n",
        "for attribute_name in metadata_list:\n",
        "    metadata_values[attribute_name] = []\n",
        "\n",
        "# Iterate over all train files\n",
        "for file_path in all_train_files:\n",
        "    ds = pydicom.dcmread(file_path)\n",
        "    \n",
        "    # Iterate over the metadata attributes\n",
        "    for attribute_name in metadata_list:\n",
        "        # Check if the attribute exists in the DICOM object\n",
        "        if hasattr(ds, attribute_name):\n",
        "            attribute_value = getattr(ds, attribute_name)\n",
        "            \n",
        "            # Store the attribute value in the dictionary\n",
        "            metadata_values[attribute_name].append(attribute_value)\n",
        "        else:\n",
        "            metadata_values[attribute_name].append(None)\n",
        "\n",
        "# Create a pandas DataFrame from the metadata values\n",
        "df_metadata = pd.DataFrame(metadata_values)\n",
        "\n",
        "# Print the resulting DataFrame\n",
        "print(df_metadata.head())"
      ],
      "metadata": {
        "id": "LSKRq7AvFg71",
        "colab": {
          "base_uri": "https://localhost:8080/"
        },
        "outputId": "7c4911e6-7a74-4a16-bf1e-6833bb8ccb89"
      },
      "execution_count": null,
      "outputs": [
        {
          "output_type": "stream",
          "name": "stdout",
          "text": [
            "                                      SOPInstanceUID BodyPartExamined  \\\n",
            "0  1.2.826.0.1.3680043.8.498.13174031198396146354...                    \n",
            "1  1.2.826.0.1.3680043.8.498.12946327792923949867...                    \n",
            "2  1.2.826.0.1.3680043.8.498.50132657620260365226...                    \n",
            "3  1.2.826.0.1.3680043.8.498.12349604547773643462...                    \n",
            "4  1.2.826.0.1.3680043.8.498.12414243101975237693...                    \n",
            "\n",
            "  PatientAge PatientSex                                          PixelData  \\\n",
            "0        75Y             b'\\xfe\\xff\\x00\\xe0\\x00\\x00\\x00\\x00\\xfe\\xff\\x00...   \n",
            "1                        b'\\xfe\\xff\\x00\\xe0\\x00\\x00\\x00\\x00\\xfe\\xff\\x00...   \n",
            "2                        b'\\xfe\\xff\\x00\\xe0\\x00\\x00\\x00\\x00\\xfe\\xff\\x00...   \n",
            "3                        b'\\xfe\\xff\\x00\\xe0\\x00\\x00\\x00\\x00\\xfe\\xff\\x00...   \n",
            "4                        b'\\xfe\\xff\\x00\\xe0\\x00\\x00\\x00\\x00\\xfe\\xff\\x00...   \n",
            "\n",
            "   Columns  Rows  \n",
            "0      300   268  \n",
            "1     4240  3480  \n",
            "2     4240  3480  \n",
            "3     3480  4240  \n",
            "4     4240  3480  \n"
          ]
        }
      ]
    },
    {
      "cell_type": "code",
      "source": [
        "# Define the lambda functions to be applied to each row\n",
        "func_age = lambda x: int(x.get('PatientAge', 'NaN').replace('Y', '')) if 'PatientAge' in x else float('NaN')\n",
        "func_sex = lambda x: int(x.get('PatientSex', 'NaN').replace('Y', '')) if 'PatientSex' in x else float('NaN')\n",
        "\n",
        "# Apply the functions to the columns\n",
        "df_metadata['PatientAge'] = df_metadata['PatientAge'].apply(func_age)\n",
        "df_metadata['PatientSex'] = df_metadata['PatientSex'].apply(func_sex)\n",
        "df_metadata = df_metadata.rename(columns={'Columns': 'Width', 'Rows':'Height'})\n",
        "df_metadata.head()\n"
      ],
      "metadata": {
        "colab": {
          "base_uri": "https://localhost:8080/",
          "height": 432
        },
        "id": "-Ng1ALglU2wW",
        "outputId": "6bf12214-ddfa-4164-cac6-8627b3db33bb"
      },
      "execution_count": null,
      "outputs": [
        {
          "output_type": "error",
          "ename": "TypeError",
          "evalue": "ignored",
          "traceback": [
            "\u001b[0;31m---------------------------------------------------------------------------\u001b[0m",
            "\u001b[0;31mTypeError\u001b[0m                                 Traceback (most recent call last)",
            "\u001b[0;32m<ipython-input-18-97f702a7b7d3>\u001b[0m in \u001b[0;36m<cell line: 6>\u001b[0;34m()\u001b[0m\n\u001b[1;32m      4\u001b[0m \u001b[0;34m\u001b[0m\u001b[0m\n\u001b[1;32m      5\u001b[0m \u001b[0;31m# Apply the functions to the columns\u001b[0m\u001b[0;34m\u001b[0m\u001b[0;34m\u001b[0m\u001b[0m\n\u001b[0;32m----> 6\u001b[0;31m \u001b[0mdf_metadata\u001b[0m\u001b[0;34m[\u001b[0m\u001b[0;34m'PatientAge'\u001b[0m\u001b[0;34m]\u001b[0m \u001b[0;34m=\u001b[0m \u001b[0mdf_metadata\u001b[0m\u001b[0;34m[\u001b[0m\u001b[0;34m'PatientAge'\u001b[0m\u001b[0;34m]\u001b[0m\u001b[0;34m.\u001b[0m\u001b[0mapply\u001b[0m\u001b[0;34m(\u001b[0m\u001b[0mfunc_age\u001b[0m\u001b[0;34m)\u001b[0m\u001b[0;34m\u001b[0m\u001b[0;34m\u001b[0m\u001b[0m\n\u001b[0m\u001b[1;32m      7\u001b[0m \u001b[0mdf_metadata\u001b[0m\u001b[0;34m[\u001b[0m\u001b[0;34m'PatientSex'\u001b[0m\u001b[0;34m]\u001b[0m \u001b[0;34m=\u001b[0m \u001b[0mdf_metadata\u001b[0m\u001b[0;34m[\u001b[0m\u001b[0;34m'PatientSex'\u001b[0m\u001b[0;34m]\u001b[0m\u001b[0;34m.\u001b[0m\u001b[0mapply\u001b[0m\u001b[0;34m(\u001b[0m\u001b[0mfunc_sex\u001b[0m\u001b[0;34m)\u001b[0m\u001b[0;34m\u001b[0m\u001b[0;34m\u001b[0m\u001b[0m\n\u001b[1;32m      8\u001b[0m \u001b[0mdf_metadata\u001b[0m \u001b[0;34m=\u001b[0m \u001b[0mdf_metadata\u001b[0m\u001b[0;34m.\u001b[0m\u001b[0mrename\u001b[0m\u001b[0;34m(\u001b[0m\u001b[0mcolumns\u001b[0m\u001b[0;34m=\u001b[0m\u001b[0;34m{\u001b[0m\u001b[0;34m'Columns'\u001b[0m\u001b[0;34m:\u001b[0m \u001b[0;34m'Width'\u001b[0m\u001b[0;34m,\u001b[0m \u001b[0;34m'Rows'\u001b[0m\u001b[0;34m:\u001b[0m\u001b[0;34m'Height'\u001b[0m\u001b[0;34m}\u001b[0m\u001b[0;34m)\u001b[0m\u001b[0;34m\u001b[0m\u001b[0;34m\u001b[0m\u001b[0m\n",
            "\u001b[0;32m/usr/local/lib/python3.10/dist-packages/pandas/core/series.py\u001b[0m in \u001b[0;36mapply\u001b[0;34m(self, func, convert_dtype, args, **kwargs)\u001b[0m\n\u001b[1;32m   4769\u001b[0m         \u001b[0mdtype\u001b[0m\u001b[0;34m:\u001b[0m \u001b[0mfloat64\u001b[0m\u001b[0;34m\u001b[0m\u001b[0;34m\u001b[0m\u001b[0m\n\u001b[1;32m   4770\u001b[0m         \"\"\"\n\u001b[0;32m-> 4771\u001b[0;31m         \u001b[0;32mreturn\u001b[0m \u001b[0mSeriesApply\u001b[0m\u001b[0;34m(\u001b[0m\u001b[0mself\u001b[0m\u001b[0;34m,\u001b[0m \u001b[0mfunc\u001b[0m\u001b[0;34m,\u001b[0m \u001b[0mconvert_dtype\u001b[0m\u001b[0;34m,\u001b[0m \u001b[0margs\u001b[0m\u001b[0;34m,\u001b[0m \u001b[0mkwargs\u001b[0m\u001b[0;34m)\u001b[0m\u001b[0;34m.\u001b[0m\u001b[0mapply\u001b[0m\u001b[0;34m(\u001b[0m\u001b[0;34m)\u001b[0m\u001b[0;34m\u001b[0m\u001b[0;34m\u001b[0m\u001b[0m\n\u001b[0m\u001b[1;32m   4772\u001b[0m \u001b[0;34m\u001b[0m\u001b[0m\n\u001b[1;32m   4773\u001b[0m     def _reduce(\n",
            "\u001b[0;32m/usr/local/lib/python3.10/dist-packages/pandas/core/apply.py\u001b[0m in \u001b[0;36mapply\u001b[0;34m(self)\u001b[0m\n\u001b[1;32m   1121\u001b[0m \u001b[0;34m\u001b[0m\u001b[0m\n\u001b[1;32m   1122\u001b[0m         \u001b[0;31m# self.f is Callable\u001b[0m\u001b[0;34m\u001b[0m\u001b[0;34m\u001b[0m\u001b[0m\n\u001b[0;32m-> 1123\u001b[0;31m         \u001b[0;32mreturn\u001b[0m \u001b[0mself\u001b[0m\u001b[0;34m.\u001b[0m\u001b[0mapply_standard\u001b[0m\u001b[0;34m(\u001b[0m\u001b[0;34m)\u001b[0m\u001b[0;34m\u001b[0m\u001b[0;34m\u001b[0m\u001b[0m\n\u001b[0m\u001b[1;32m   1124\u001b[0m \u001b[0;34m\u001b[0m\u001b[0m\n\u001b[1;32m   1125\u001b[0m     \u001b[0;32mdef\u001b[0m \u001b[0magg\u001b[0m\u001b[0;34m(\u001b[0m\u001b[0mself\u001b[0m\u001b[0;34m)\u001b[0m\u001b[0;34m:\u001b[0m\u001b[0;34m\u001b[0m\u001b[0;34m\u001b[0m\u001b[0m\n",
            "\u001b[0;32m/usr/local/lib/python3.10/dist-packages/pandas/core/apply.py\u001b[0m in \u001b[0;36mapply_standard\u001b[0;34m(self)\u001b[0m\n\u001b[1;32m   1172\u001b[0m             \u001b[0;32melse\u001b[0m\u001b[0;34m:\u001b[0m\u001b[0;34m\u001b[0m\u001b[0;34m\u001b[0m\u001b[0m\n\u001b[1;32m   1173\u001b[0m                 \u001b[0mvalues\u001b[0m \u001b[0;34m=\u001b[0m \u001b[0mobj\u001b[0m\u001b[0;34m.\u001b[0m\u001b[0mastype\u001b[0m\u001b[0;34m(\u001b[0m\u001b[0mobject\u001b[0m\u001b[0;34m)\u001b[0m\u001b[0;34m.\u001b[0m\u001b[0m_values\u001b[0m\u001b[0;34m\u001b[0m\u001b[0;34m\u001b[0m\u001b[0m\n\u001b[0;32m-> 1174\u001b[0;31m                 mapped = lib.map_infer(\n\u001b[0m\u001b[1;32m   1175\u001b[0m                     \u001b[0mvalues\u001b[0m\u001b[0;34m,\u001b[0m\u001b[0;34m\u001b[0m\u001b[0;34m\u001b[0m\u001b[0m\n\u001b[1;32m   1176\u001b[0m                     \u001b[0mf\u001b[0m\u001b[0;34m,\u001b[0m\u001b[0;34m\u001b[0m\u001b[0;34m\u001b[0m\u001b[0m\n",
            "\u001b[0;32m/usr/local/lib/python3.10/dist-packages/pandas/_libs/lib.pyx\u001b[0m in \u001b[0;36mpandas._libs.lib.map_infer\u001b[0;34m()\u001b[0m\n",
            "\u001b[0;32m<ipython-input-18-97f702a7b7d3>\u001b[0m in \u001b[0;36m<lambda>\u001b[0;34m(x)\u001b[0m\n\u001b[1;32m      1\u001b[0m \u001b[0;31m# Define the lambda functions to be applied to each row\u001b[0m\u001b[0;34m\u001b[0m\u001b[0;34m\u001b[0m\u001b[0m\n\u001b[0;32m----> 2\u001b[0;31m \u001b[0mfunc_age\u001b[0m \u001b[0;34m=\u001b[0m \u001b[0;32mlambda\u001b[0m \u001b[0mx\u001b[0m\u001b[0;34m:\u001b[0m \u001b[0mint\u001b[0m\u001b[0;34m(\u001b[0m\u001b[0mx\u001b[0m\u001b[0;34m.\u001b[0m\u001b[0mget\u001b[0m\u001b[0;34m(\u001b[0m\u001b[0;34m'PatientAge'\u001b[0m\u001b[0;34m,\u001b[0m \u001b[0;34m'NaN'\u001b[0m\u001b[0;34m)\u001b[0m\u001b[0;34m.\u001b[0m\u001b[0mreplace\u001b[0m\u001b[0;34m(\u001b[0m\u001b[0;34m'Y'\u001b[0m\u001b[0;34m,\u001b[0m \u001b[0;34m''\u001b[0m\u001b[0;34m)\u001b[0m\u001b[0;34m)\u001b[0m \u001b[0;32mif\u001b[0m \u001b[0;34m'PatientAge'\u001b[0m \u001b[0;32min\u001b[0m \u001b[0mx\u001b[0m \u001b[0;32melse\u001b[0m \u001b[0mfloat\u001b[0m\u001b[0;34m(\u001b[0m\u001b[0;34m'NaN'\u001b[0m\u001b[0;34m)\u001b[0m\u001b[0;34m\u001b[0m\u001b[0;34m\u001b[0m\u001b[0m\n\u001b[0m\u001b[1;32m      3\u001b[0m \u001b[0mfunc_sex\u001b[0m \u001b[0;34m=\u001b[0m \u001b[0;32mlambda\u001b[0m \u001b[0mx\u001b[0m\u001b[0;34m:\u001b[0m \u001b[0mint\u001b[0m\u001b[0;34m(\u001b[0m\u001b[0mx\u001b[0m\u001b[0;34m.\u001b[0m\u001b[0mget\u001b[0m\u001b[0;34m(\u001b[0m\u001b[0;34m'PatientSex'\u001b[0m\u001b[0;34m,\u001b[0m \u001b[0;34m'NaN'\u001b[0m\u001b[0;34m)\u001b[0m\u001b[0;34m.\u001b[0m\u001b[0mreplace\u001b[0m\u001b[0;34m(\u001b[0m\u001b[0;34m'Y'\u001b[0m\u001b[0;34m,\u001b[0m \u001b[0;34m''\u001b[0m\u001b[0;34m)\u001b[0m\u001b[0;34m)\u001b[0m \u001b[0;32mif\u001b[0m \u001b[0;34m'PatientSex'\u001b[0m \u001b[0;32min\u001b[0m \u001b[0mx\u001b[0m \u001b[0;32melse\u001b[0m \u001b[0mfloat\u001b[0m\u001b[0;34m(\u001b[0m\u001b[0;34m'NaN'\u001b[0m\u001b[0;34m)\u001b[0m\u001b[0;34m\u001b[0m\u001b[0;34m\u001b[0m\u001b[0m\n\u001b[1;32m      4\u001b[0m \u001b[0;34m\u001b[0m\u001b[0m\n\u001b[1;32m      5\u001b[0m \u001b[0;31m# Apply the functions to the columns\u001b[0m\u001b[0;34m\u001b[0m\u001b[0;34m\u001b[0m\u001b[0m\n",
            "\u001b[0;31mTypeError\u001b[0m: argument of type 'float' is not iterable"
          ]
        }
      ]
    },
    {
      "cell_type": "markdown",
      "source": [
        "## Get target labels (body parts)"
      ],
      "metadata": {
        "id": "h-Bj319ycxig"
      }
    },
    {
      "cell_type": "code",
      "source": [
        "# Load train.csv to get target labels\n",
        "train_data = pd.read_csv('train.csv')\n",
        "\n",
        "# Define the bodyparts dictionary\n",
        "bodyparts_dict = {\n",
        "    0: 'Abdomen',\n",
        "    1: 'Tobillo',\n",
        "    2: 'Columna cervical',\n",
        "    3: 'Tórax',\n",
        "    4: 'Clavículas',\n",
        "    5: 'Codo',\n",
        "    6: 'Pies',\n",
        "    7: 'Dedos',\n",
        "    8: 'Antebrazo',\n",
        "    9: 'Mano',\n",
        "    10: 'Cadera',\n",
        "    11: 'Rodilla',\n",
        "    12: 'Pierna',\n",
        "    13: 'Columna lumbar',\n",
        "    14: 'Otros',\n",
        "    15: 'Pelvis',\n",
        "    16: 'Hombro',\n",
        "    17: 'Senos paranasales',\n",
        "    18: 'Cráneo',\n",
        "    19: 'Muslo',\n",
        "    20: 'Columna torácica',\n",
        "    21: 'Muñeca'\n",
        "}\n",
        "\n",
        "# Add bodypart labels/ target to dataframe\n",
        "df_metadata = df_metadata.merge(train_data, on='SOPInstanceUID', how='left')\n",
        "df_metadata['BodyPart'] = df_metadata.Target.map(bodyparts_dict)\n",
        "df_metadata.head()"
      ],
      "metadata": {
        "colab": {
          "base_uri": "https://localhost:8080/",
          "height": 270
        },
        "id": "Rnxys9H9XJ4X",
        "outputId": "9a501aca-ab09-4cf4-b922-3434f69e0adc"
      },
      "execution_count": null,
      "outputs": [
        {
          "output_type": "execute_result",
          "data": {
            "text/plain": [
              "                                      SOPInstanceUID  PatientAge  PatientSex  \\\n",
              "0  1.2.826.0.1.3680043.8.498.13174031198396146354...         NaN         NaN   \n",
              "1  1.2.826.0.1.3680043.8.498.12946327792923949867...         NaN         NaN   \n",
              "2  1.2.826.0.1.3680043.8.498.50132657620260365226...         NaN         NaN   \n",
              "3  1.2.826.0.1.3680043.8.498.12349604547773643462...         NaN         NaN   \n",
              "4  1.2.826.0.1.3680043.8.498.12414243101975237693...         NaN         NaN   \n",
              "\n",
              "   Width  Height BodyPart  \n",
              "0    300     268    Otros  \n",
              "1   4240    3480    Tórax  \n",
              "2   4240    3480    Tórax  \n",
              "3   3480    4240    Tórax  \n",
              "4   4240    3480    Tórax  "
            ],
            "text/html": [
              "\n",
              "  <div id=\"df-15e50b6c-0de5-48a2-a048-1d25a0e29d66\">\n",
              "    <div class=\"colab-df-container\">\n",
              "      <div>\n",
              "<style scoped>\n",
              "    .dataframe tbody tr th:only-of-type {\n",
              "        vertical-align: middle;\n",
              "    }\n",
              "\n",
              "    .dataframe tbody tr th {\n",
              "        vertical-align: top;\n",
              "    }\n",
              "\n",
              "    .dataframe thead th {\n",
              "        text-align: right;\n",
              "    }\n",
              "</style>\n",
              "<table border=\"1\" class=\"dataframe\">\n",
              "  <thead>\n",
              "    <tr style=\"text-align: right;\">\n",
              "      <th></th>\n",
              "      <th>SOPInstanceUID</th>\n",
              "      <th>PatientAge</th>\n",
              "      <th>PatientSex</th>\n",
              "      <th>Width</th>\n",
              "      <th>Height</th>\n",
              "      <th>BodyPart</th>\n",
              "    </tr>\n",
              "  </thead>\n",
              "  <tbody>\n",
              "    <tr>\n",
              "      <th>0</th>\n",
              "      <td>1.2.826.0.1.3680043.8.498.13174031198396146354...</td>\n",
              "      <td>NaN</td>\n",
              "      <td>NaN</td>\n",
              "      <td>300</td>\n",
              "      <td>268</td>\n",
              "      <td>Otros</td>\n",
              "    </tr>\n",
              "    <tr>\n",
              "      <th>1</th>\n",
              "      <td>1.2.826.0.1.3680043.8.498.12946327792923949867...</td>\n",
              "      <td>NaN</td>\n",
              "      <td>NaN</td>\n",
              "      <td>4240</td>\n",
              "      <td>3480</td>\n",
              "      <td>Tórax</td>\n",
              "    </tr>\n",
              "    <tr>\n",
              "      <th>2</th>\n",
              "      <td>1.2.826.0.1.3680043.8.498.50132657620260365226...</td>\n",
              "      <td>NaN</td>\n",
              "      <td>NaN</td>\n",
              "      <td>4240</td>\n",
              "      <td>3480</td>\n",
              "      <td>Tórax</td>\n",
              "    </tr>\n",
              "    <tr>\n",
              "      <th>3</th>\n",
              "      <td>1.2.826.0.1.3680043.8.498.12349604547773643462...</td>\n",
              "      <td>NaN</td>\n",
              "      <td>NaN</td>\n",
              "      <td>3480</td>\n",
              "      <td>4240</td>\n",
              "      <td>Tórax</td>\n",
              "    </tr>\n",
              "    <tr>\n",
              "      <th>4</th>\n",
              "      <td>1.2.826.0.1.3680043.8.498.12414243101975237693...</td>\n",
              "      <td>NaN</td>\n",
              "      <td>NaN</td>\n",
              "      <td>4240</td>\n",
              "      <td>3480</td>\n",
              "      <td>Tórax</td>\n",
              "    </tr>\n",
              "  </tbody>\n",
              "</table>\n",
              "</div>\n",
              "      <button class=\"colab-df-convert\" onclick=\"convertToInteractive('df-15e50b6c-0de5-48a2-a048-1d25a0e29d66')\"\n",
              "              title=\"Convert this dataframe to an interactive table.\"\n",
              "              style=\"display:none;\">\n",
              "        \n",
              "  <svg xmlns=\"http://www.w3.org/2000/svg\" height=\"24px\"viewBox=\"0 0 24 24\"\n",
              "       width=\"24px\">\n",
              "    <path d=\"M0 0h24v24H0V0z\" fill=\"none\"/>\n",
              "    <path d=\"M18.56 5.44l.94 2.06.94-2.06 2.06-.94-2.06-.94-.94-2.06-.94 2.06-2.06.94zm-11 1L8.5 8.5l.94-2.06 2.06-.94-2.06-.94L8.5 2.5l-.94 2.06-2.06.94zm10 10l.94 2.06.94-2.06 2.06-.94-2.06-.94-.94-2.06-.94 2.06-2.06.94z\"/><path d=\"M17.41 7.96l-1.37-1.37c-.4-.4-.92-.59-1.43-.59-.52 0-1.04.2-1.43.59L10.3 9.45l-7.72 7.72c-.78.78-.78 2.05 0 2.83L4 21.41c.39.39.9.59 1.41.59.51 0 1.02-.2 1.41-.59l7.78-7.78 2.81-2.81c.8-.78.8-2.07 0-2.86zM5.41 20L4 18.59l7.72-7.72 1.47 1.35L5.41 20z\"/>\n",
              "  </svg>\n",
              "      </button>\n",
              "      \n",
              "  <style>\n",
              "    .colab-df-container {\n",
              "      display:flex;\n",
              "      flex-wrap:wrap;\n",
              "      gap: 12px;\n",
              "    }\n",
              "\n",
              "    .colab-df-convert {\n",
              "      background-color: #E8F0FE;\n",
              "      border: none;\n",
              "      border-radius: 50%;\n",
              "      cursor: pointer;\n",
              "      display: none;\n",
              "      fill: #1967D2;\n",
              "      height: 32px;\n",
              "      padding: 0 0 0 0;\n",
              "      width: 32px;\n",
              "    }\n",
              "\n",
              "    .colab-df-convert:hover {\n",
              "      background-color: #E2EBFA;\n",
              "      box-shadow: 0px 1px 2px rgba(60, 64, 67, 0.3), 0px 1px 3px 1px rgba(60, 64, 67, 0.15);\n",
              "      fill: #174EA6;\n",
              "    }\n",
              "\n",
              "    [theme=dark] .colab-df-convert {\n",
              "      background-color: #3B4455;\n",
              "      fill: #D2E3FC;\n",
              "    }\n",
              "\n",
              "    [theme=dark] .colab-df-convert:hover {\n",
              "      background-color: #434B5C;\n",
              "      box-shadow: 0px 1px 3px 1px rgba(0, 0, 0, 0.15);\n",
              "      filter: drop-shadow(0px 1px 2px rgba(0, 0, 0, 0.3));\n",
              "      fill: #FFFFFF;\n",
              "    }\n",
              "  </style>\n",
              "\n",
              "      <script>\n",
              "        const buttonEl =\n",
              "          document.querySelector('#df-15e50b6c-0de5-48a2-a048-1d25a0e29d66 button.colab-df-convert');\n",
              "        buttonEl.style.display =\n",
              "          google.colab.kernel.accessAllowed ? 'block' : 'none';\n",
              "\n",
              "        async function convertToInteractive(key) {\n",
              "          const element = document.querySelector('#df-15e50b6c-0de5-48a2-a048-1d25a0e29d66');\n",
              "          const dataTable =\n",
              "            await google.colab.kernel.invokeFunction('convertToInteractive',\n",
              "                                                     [key], {});\n",
              "          if (!dataTable) return;\n",
              "\n",
              "          const docLinkHtml = 'Like what you see? Visit the ' +\n",
              "            '<a target=\"_blank\" href=https://colab.research.google.com/notebooks/data_table.ipynb>data table notebook</a>'\n",
              "            + ' to learn more about interactive tables.';\n",
              "          element.innerHTML = '';\n",
              "          dataTable['output_type'] = 'display_data';\n",
              "          await google.colab.output.renderOutput(dataTable, element);\n",
              "          const docLink = document.createElement('div');\n",
              "          docLink.innerHTML = docLinkHtml;\n",
              "          element.appendChild(docLink);\n",
              "        }\n",
              "      </script>\n",
              "    </div>\n",
              "  </div>\n",
              "  "
            ]
          },
          "metadata": {},
          "execution_count": 20
        }
      ]
    },
    {
      "cell_type": "markdown",
      "source": [
        "## EDA\n",
        "\n",
        "As there are no metadata on the age nor on the sex of the pacients, the EDA focuses only on the width, height nd body parts of the images."
      ],
      "metadata": {
        "id": "lX2VdCTKc6Is"
      }
    },
    {
      "cell_type": "code",
      "source": [
        "df_metadata.info()"
      ],
      "metadata": {
        "colab": {
          "base_uri": "https://localhost:8080/"
        },
        "id": "P2j61azUUWrR",
        "outputId": "565952f9-f40e-4fc1-ce39-d1b203ad3644"
      },
      "execution_count": null,
      "outputs": [
        {
          "output_type": "stream",
          "name": "stdout",
          "text": [
            "<class 'pandas.core.frame.DataFrame'>\n",
            "Int64Index: 1278 entries, 0 to 1277\n",
            "Data columns (total 6 columns):\n",
            " #   Column          Non-Null Count  Dtype  \n",
            "---  ------          --------------  -----  \n",
            " 0   SOPInstanceUID  1278 non-null   object \n",
            " 1   PatientAge      0 non-null      float64\n",
            " 2   PatientSex      0 non-null      float64\n",
            " 3   Width           1278 non-null   int64  \n",
            " 4   Height          1278 non-null   int64  \n",
            " 5   BodyPart        1278 non-null   object \n",
            "dtypes: float64(2), int64(2), object(2)\n",
            "memory usage: 69.9+ KB\n"
          ]
        }
      ]
    },
    {
      "cell_type": "code",
      "source": [
        "df_metadata.describe(include='all')"
      ],
      "metadata": {
        "colab": {
          "base_uri": "https://localhost:8080/",
          "height": 458
        },
        "id": "qKyprQgUTsVy",
        "outputId": "02af903e-5f4c-4ba2-b788-998f66aeab2a"
      },
      "execution_count": null,
      "outputs": [
        {
          "output_type": "execute_result",
          "data": {
            "text/plain": [
              "                                           SOPInstanceUID BodyPartExamined  \\\n",
              "count                                                1278             1278   \n",
              "unique                                               1278                1   \n",
              "top     1.2.826.0.1.3680043.8.498.13174031198396146354...                    \n",
              "freq                                                    1             1278   \n",
              "mean                                                  NaN              NaN   \n",
              "std                                                   NaN              NaN   \n",
              "min                                                   NaN              NaN   \n",
              "25%                                                   NaN              NaN   \n",
              "50%                                                   NaN              NaN   \n",
              "75%                                                   NaN              NaN   \n",
              "max                                                   NaN              NaN   \n",
              "\n",
              "        PatientAge  PatientSex  \\\n",
              "count          0.0         0.0   \n",
              "unique         NaN         NaN   \n",
              "top            NaN         NaN   \n",
              "freq           NaN         NaN   \n",
              "mean           NaN         NaN   \n",
              "std            NaN         NaN   \n",
              "min            NaN         NaN   \n",
              "25%            NaN         NaN   \n",
              "50%            NaN         NaN   \n",
              "75%            NaN         NaN   \n",
              "max            NaN         NaN   \n",
              "\n",
              "                                                PixelData        Width  \\\n",
              "count                                                1278  1278.000000   \n",
              "unique                                               1274          NaN   \n",
              "top     b'\\xfe\\xff\\x00\\xe0\\x00\\x00\\x00\\x00\\xfe\\xff\\x00...          NaN   \n",
              "freq                                                    2          NaN   \n",
              "mean                                                  NaN  3237.946792   \n",
              "std                                                   NaN  1011.725482   \n",
              "min                                                   NaN   128.000000   \n",
              "25%                                                   NaN  2320.000000   \n",
              "50%                                                   NaN  3480.000000   \n",
              "75%                                                   NaN  4240.000000   \n",
              "max                                                   NaN  4240.000000   \n",
              "\n",
              "             Height  \n",
              "count   1278.000000  \n",
              "unique          NaN  \n",
              "top             NaN  \n",
              "freq            NaN  \n",
              "mean    3274.844288  \n",
              "std      928.641047  \n",
              "min      172.000000  \n",
              "25%     2920.000000  \n",
              "50%     3480.000000  \n",
              "75%     4240.000000  \n",
              "max     4240.000000  "
            ],
            "text/html": [
              "\n",
              "  <div id=\"df-a7264eac-4425-41b7-9686-7e4da5ad7005\">\n",
              "    <div class=\"colab-df-container\">\n",
              "      <div>\n",
              "<style scoped>\n",
              "    .dataframe tbody tr th:only-of-type {\n",
              "        vertical-align: middle;\n",
              "    }\n",
              "\n",
              "    .dataframe tbody tr th {\n",
              "        vertical-align: top;\n",
              "    }\n",
              "\n",
              "    .dataframe thead th {\n",
              "        text-align: right;\n",
              "    }\n",
              "</style>\n",
              "<table border=\"1\" class=\"dataframe\">\n",
              "  <thead>\n",
              "    <tr style=\"text-align: right;\">\n",
              "      <th></th>\n",
              "      <th>SOPInstanceUID</th>\n",
              "      <th>BodyPartExamined</th>\n",
              "      <th>PatientAge</th>\n",
              "      <th>PatientSex</th>\n",
              "      <th>PixelData</th>\n",
              "      <th>Width</th>\n",
              "      <th>Height</th>\n",
              "    </tr>\n",
              "  </thead>\n",
              "  <tbody>\n",
              "    <tr>\n",
              "      <th>count</th>\n",
              "      <td>1278</td>\n",
              "      <td>1278</td>\n",
              "      <td>0.0</td>\n",
              "      <td>0.0</td>\n",
              "      <td>1278</td>\n",
              "      <td>1278.000000</td>\n",
              "      <td>1278.000000</td>\n",
              "    </tr>\n",
              "    <tr>\n",
              "      <th>unique</th>\n",
              "      <td>1278</td>\n",
              "      <td>1</td>\n",
              "      <td>NaN</td>\n",
              "      <td>NaN</td>\n",
              "      <td>1274</td>\n",
              "      <td>NaN</td>\n",
              "      <td>NaN</td>\n",
              "    </tr>\n",
              "    <tr>\n",
              "      <th>top</th>\n",
              "      <td>1.2.826.0.1.3680043.8.498.13174031198396146354...</td>\n",
              "      <td></td>\n",
              "      <td>NaN</td>\n",
              "      <td>NaN</td>\n",
              "      <td>b'\\xfe\\xff\\x00\\xe0\\x00\\x00\\x00\\x00\\xfe\\xff\\x00...</td>\n",
              "      <td>NaN</td>\n",
              "      <td>NaN</td>\n",
              "    </tr>\n",
              "    <tr>\n",
              "      <th>freq</th>\n",
              "      <td>1</td>\n",
              "      <td>1278</td>\n",
              "      <td>NaN</td>\n",
              "      <td>NaN</td>\n",
              "      <td>2</td>\n",
              "      <td>NaN</td>\n",
              "      <td>NaN</td>\n",
              "    </tr>\n",
              "    <tr>\n",
              "      <th>mean</th>\n",
              "      <td>NaN</td>\n",
              "      <td>NaN</td>\n",
              "      <td>NaN</td>\n",
              "      <td>NaN</td>\n",
              "      <td>NaN</td>\n",
              "      <td>3237.946792</td>\n",
              "      <td>3274.844288</td>\n",
              "    </tr>\n",
              "    <tr>\n",
              "      <th>std</th>\n",
              "      <td>NaN</td>\n",
              "      <td>NaN</td>\n",
              "      <td>NaN</td>\n",
              "      <td>NaN</td>\n",
              "      <td>NaN</td>\n",
              "      <td>1011.725482</td>\n",
              "      <td>928.641047</td>\n",
              "    </tr>\n",
              "    <tr>\n",
              "      <th>min</th>\n",
              "      <td>NaN</td>\n",
              "      <td>NaN</td>\n",
              "      <td>NaN</td>\n",
              "      <td>NaN</td>\n",
              "      <td>NaN</td>\n",
              "      <td>128.000000</td>\n",
              "      <td>172.000000</td>\n",
              "    </tr>\n",
              "    <tr>\n",
              "      <th>25%</th>\n",
              "      <td>NaN</td>\n",
              "      <td>NaN</td>\n",
              "      <td>NaN</td>\n",
              "      <td>NaN</td>\n",
              "      <td>NaN</td>\n",
              "      <td>2320.000000</td>\n",
              "      <td>2920.000000</td>\n",
              "    </tr>\n",
              "    <tr>\n",
              "      <th>50%</th>\n",
              "      <td>NaN</td>\n",
              "      <td>NaN</td>\n",
              "      <td>NaN</td>\n",
              "      <td>NaN</td>\n",
              "      <td>NaN</td>\n",
              "      <td>3480.000000</td>\n",
              "      <td>3480.000000</td>\n",
              "    </tr>\n",
              "    <tr>\n",
              "      <th>75%</th>\n",
              "      <td>NaN</td>\n",
              "      <td>NaN</td>\n",
              "      <td>NaN</td>\n",
              "      <td>NaN</td>\n",
              "      <td>NaN</td>\n",
              "      <td>4240.000000</td>\n",
              "      <td>4240.000000</td>\n",
              "    </tr>\n",
              "    <tr>\n",
              "      <th>max</th>\n",
              "      <td>NaN</td>\n",
              "      <td>NaN</td>\n",
              "      <td>NaN</td>\n",
              "      <td>NaN</td>\n",
              "      <td>NaN</td>\n",
              "      <td>4240.000000</td>\n",
              "      <td>4240.000000</td>\n",
              "    </tr>\n",
              "  </tbody>\n",
              "</table>\n",
              "</div>\n",
              "      <button class=\"colab-df-convert\" onclick=\"convertToInteractive('df-a7264eac-4425-41b7-9686-7e4da5ad7005')\"\n",
              "              title=\"Convert this dataframe to an interactive table.\"\n",
              "              style=\"display:none;\">\n",
              "        \n",
              "  <svg xmlns=\"http://www.w3.org/2000/svg\" height=\"24px\"viewBox=\"0 0 24 24\"\n",
              "       width=\"24px\">\n",
              "    <path d=\"M0 0h24v24H0V0z\" fill=\"none\"/>\n",
              "    <path d=\"M18.56 5.44l.94 2.06.94-2.06 2.06-.94-2.06-.94-.94-2.06-.94 2.06-2.06.94zm-11 1L8.5 8.5l.94-2.06 2.06-.94-2.06-.94L8.5 2.5l-.94 2.06-2.06.94zm10 10l.94 2.06.94-2.06 2.06-.94-2.06-.94-.94-2.06-.94 2.06-2.06.94z\"/><path d=\"M17.41 7.96l-1.37-1.37c-.4-.4-.92-.59-1.43-.59-.52 0-1.04.2-1.43.59L10.3 9.45l-7.72 7.72c-.78.78-.78 2.05 0 2.83L4 21.41c.39.39.9.59 1.41.59.51 0 1.02-.2 1.41-.59l7.78-7.78 2.81-2.81c.8-.78.8-2.07 0-2.86zM5.41 20L4 18.59l7.72-7.72 1.47 1.35L5.41 20z\"/>\n",
              "  </svg>\n",
              "      </button>\n",
              "      \n",
              "  <style>\n",
              "    .colab-df-container {\n",
              "      display:flex;\n",
              "      flex-wrap:wrap;\n",
              "      gap: 12px;\n",
              "    }\n",
              "\n",
              "    .colab-df-convert {\n",
              "      background-color: #E8F0FE;\n",
              "      border: none;\n",
              "      border-radius: 50%;\n",
              "      cursor: pointer;\n",
              "      display: none;\n",
              "      fill: #1967D2;\n",
              "      height: 32px;\n",
              "      padding: 0 0 0 0;\n",
              "      width: 32px;\n",
              "    }\n",
              "\n",
              "    .colab-df-convert:hover {\n",
              "      background-color: #E2EBFA;\n",
              "      box-shadow: 0px 1px 2px rgba(60, 64, 67, 0.3), 0px 1px 3px 1px rgba(60, 64, 67, 0.15);\n",
              "      fill: #174EA6;\n",
              "    }\n",
              "\n",
              "    [theme=dark] .colab-df-convert {\n",
              "      background-color: #3B4455;\n",
              "      fill: #D2E3FC;\n",
              "    }\n",
              "\n",
              "    [theme=dark] .colab-df-convert:hover {\n",
              "      background-color: #434B5C;\n",
              "      box-shadow: 0px 1px 3px 1px rgba(0, 0, 0, 0.15);\n",
              "      filter: drop-shadow(0px 1px 2px rgba(0, 0, 0, 0.3));\n",
              "      fill: #FFFFFF;\n",
              "    }\n",
              "  </style>\n",
              "\n",
              "      <script>\n",
              "        const buttonEl =\n",
              "          document.querySelector('#df-a7264eac-4425-41b7-9686-7e4da5ad7005 button.colab-df-convert');\n",
              "        buttonEl.style.display =\n",
              "          google.colab.kernel.accessAllowed ? 'block' : 'none';\n",
              "\n",
              "        async function convertToInteractive(key) {\n",
              "          const element = document.querySelector('#df-a7264eac-4425-41b7-9686-7e4da5ad7005');\n",
              "          const dataTable =\n",
              "            await google.colab.kernel.invokeFunction('convertToInteractive',\n",
              "                                                     [key], {});\n",
              "          if (!dataTable) return;\n",
              "\n",
              "          const docLinkHtml = 'Like what you see? Visit the ' +\n",
              "            '<a target=\"_blank\" href=https://colab.research.google.com/notebooks/data_table.ipynb>data table notebook</a>'\n",
              "            + ' to learn more about interactive tables.';\n",
              "          element.innerHTML = '';\n",
              "          dataTable['output_type'] = 'display_data';\n",
              "          await google.colab.output.renderOutput(dataTable, element);\n",
              "          const docLink = document.createElement('div');\n",
              "          docLink.innerHTML = docLinkHtml;\n",
              "          element.appendChild(docLink);\n",
              "        }\n",
              "      </script>\n",
              "    </div>\n",
              "  </div>\n",
              "  "
            ]
          },
          "metadata": {},
          "execution_count": 15
        }
      ]
    },
    {
      "cell_type": "code",
      "source": [
        "# Count values for 'Height' and 'Width'\n",
        "df_metadata.value_counts([\"Height\", \"Width\"])"
      ],
      "metadata": {
        "colab": {
          "base_uri": "https://localhost:8080/"
        },
        "id": "w51ZCWdicNtk",
        "outputId": "a622d71c-9db4-45b4-f530-1b2917ca71cf"
      },
      "execution_count": null,
      "outputs": [
        {
          "output_type": "execute_result",
          "data": {
            "text/plain": [
              "Height  Width\n",
              "3480    4240     439\n",
              "4240    3480     382\n",
              "2920    2320     174\n",
              "2320    1720     103\n",
              "        2920      78\n",
              "1720    2320      45\n",
              "1024    1024      18\n",
              "192     252        3\n",
              "230     252        2\n",
              "2364    2964       2\n",
              "292     300        2\n",
              "290     300        2\n",
              "278     300        2\n",
              "282     300        2\n",
              "232     252        1\n",
              "238     252        1\n",
              "196     252        1\n",
              "202     252        1\n",
              "210     252        1\n",
              "214     252        1\n",
              "216     252        1\n",
              "218     252        1\n",
              "220     252        1\n",
              "351     128        1\n",
              "314     300        1\n",
              "302     300        1\n",
              "300     300        1\n",
              "296     300        1\n",
              "294     300        1\n",
              "222     252        1\n",
              "224     252        1\n",
              "288     300        1\n",
              "284     300        1\n",
              "226     252        1\n",
              "228     252        1\n",
              "268     300        1\n",
              "256     300        1\n",
              "172     252        1\n",
              "dtype: int64"
            ]
          },
          "metadata": {},
          "execution_count": 34
        }
      ]
    },
    {
      "cell_type": "code",
      "source": [
        "# Distribution of 'Height'\n",
        "plt.figure(figsize=(8, 6))\n",
        "sns.histplot(data=df_metadata, x='Height')\n",
        "plt.title('Distribution of Height')\n",
        "plt.xlabel('Height')\n",
        "plt.ylabel('Count')\n",
        "plt.show()\n",
        "\n",
        "# Distribution of 'Width'\n",
        "plt.figure(figsize=(8, 6))\n",
        "sns.histplot(data=df_metadata, x='Width')\n",
        "plt.title('Distribution of Width')\n",
        "plt.xlabel('Width')\n",
        "plt.ylabel('Count')\n",
        "plt.show()\n",
        "\n",
        "# Relationship between 'Height' and 'Width'\n",
        "plt.figure(figsize=(8, 6))\n",
        "sns.scatterplot(data=df_metadata, x='Height', y='Width', s=200)\n",
        "plt.title('Relationship between Height and Width')\n",
        "plt.xlabel('Height')\n",
        "plt.ylabel('Width')\n",
        "plt.show()"
      ],
      "metadata": {
        "colab": {
          "base_uri": "https://localhost:8080/",
          "height": 1000
        },
        "id": "2gQ60PNOaIM3",
        "outputId": "78db7993-0a94-4459-9eeb-b6e161faa3a4"
      },
      "execution_count": null,
      "outputs": [
        {
          "output_type": "display_data",
          "data": {
            "text/plain": [
              "<Figure size 800x600 with 1 Axes>"
            ],
            "image/png": "[encoded data removed]"
          },
          "metadata": {}
        },
        {
          "output_type": "display_data",
          "data": {
            "text/plain": [
              "<Figure size 800x600 with 1 Axes>"
            ],
            "image/png": "[encoded data removed]"
          },
          "metadata": {}
        },
        {
          "output_type": "display_data",
          "data": {
            "text/plain": [
              "<Figure size 800x600 with 1 Axes>"
            ],
            "image/png": "[encoded data removed]"
          },
          "metadata": {}
        }
      ]
    },
    {
      "cell_type": "code",
      "source": [
        "# Count values for 'BodyPart'\n",
        "df_metadata['BodyPart'].value_counts()"
      ],
      "metadata": {
        "colab": {
          "base_uri": "https://localhost:8080/"
        },
        "id": "iBDd_yY7enGW",
        "outputId": "6042acd3-a734-4bee-83f7-afd70a8992b0"
      },
      "execution_count": null,
      "outputs": [
        {
          "output_type": "execute_result",
          "data": {
            "text/plain": [
              "Tórax                579\n",
              "Otros                 96\n",
              "Rodilla               81\n",
              "Abdomen               64\n",
              "Columna cervical      61\n",
              "Pies                  56\n",
              "Pelvis                53\n",
              "Muñeca                50\n",
              "Hombro                32\n",
              "Tobillo               32\n",
              "Columna lumbar        31\n",
              "Mano                  24\n",
              "Senos paranasales     18\n",
              "Codo                  18\n",
              "Pierna                15\n",
              "Cadera                15\n",
              "Dedos                 12\n",
              "Columna torácica      12\n",
              "Antebrazo              9\n",
              "Cráneo                 8\n",
              "Clavículas             7\n",
              "Muslo                  5\n",
              "Name: BodyPart, dtype: int64"
            ]
          },
          "metadata": {},
          "execution_count": 40
        }
      ]
    }
  ]
}